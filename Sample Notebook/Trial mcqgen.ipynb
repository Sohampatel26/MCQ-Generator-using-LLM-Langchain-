{
 "cells": [
  {
   "cell_type": "code",
   "execution_count": 1,
   "metadata": {},
   "outputs": [],
   "source": [
    "import os\n",
    "import json\n",
    "import pandas as pd\n",
    "import traceback"
   ]
  },
  {
   "cell_type": "code",
   "execution_count": 2,
   "metadata": {},
   "outputs": [],
   "source": [
    "from langchain.llms import HuggingFaceHub\n",
    "from langchain.chains import LLMChain\n",
    "from langchain.prompts import PromptTemplate\n",
    "from langchain.chains import SequentialChain\n",
    "import PyPDF2"
   ]
  },
  {
   "cell_type": "code",
   "execution_count": 67,
   "metadata": {},
   "outputs": [
    {
     "name": "stdout",
     "output_type": "stream",
     "text": [
      "Requirement already satisfied: huggingface_hub in /Users/soham/Documents/GitHub/MCQ-Generator-using-LLM-and-Langchan/myenv/lib/python3.8/site-packages (0.24.6)\n",
      "Requirement already satisfied: filelock in /Users/soham/Documents/GitHub/MCQ-Generator-using-LLM-and-Langchan/myenv/lib/python3.8/site-packages (from huggingface_hub) (3.15.4)\n",
      "Requirement already satisfied: fsspec>=2023.5.0 in /Users/soham/Documents/GitHub/MCQ-Generator-using-LLM-and-Langchan/myenv/lib/python3.8/site-packages (from huggingface_hub) (2024.9.0)\n",
      "Requirement already satisfied: packaging>=20.9 in /Users/soham/Documents/GitHub/MCQ-Generator-using-LLM-and-Langchan/myenv/lib/python3.8/site-packages (from huggingface_hub) (24.1)\n",
      "Requirement already satisfied: pyyaml>=5.1 in /Users/soham/Documents/GitHub/MCQ-Generator-using-LLM-and-Langchan/myenv/lib/python3.8/site-packages (from huggingface_hub) (6.0.2)\n",
      "Requirement already satisfied: requests in /Users/soham/Documents/GitHub/MCQ-Generator-using-LLM-and-Langchan/myenv/lib/python3.8/site-packages (from huggingface_hub) (2.32.3)\n",
      "Requirement already satisfied: tqdm>=4.42.1 in /Users/soham/Documents/GitHub/MCQ-Generator-using-LLM-and-Langchan/myenv/lib/python3.8/site-packages (from huggingface_hub) (4.66.5)\n",
      "Requirement already satisfied: typing-extensions>=3.7.4.3 in /Users/soham/Documents/GitHub/MCQ-Generator-using-LLM-and-Langchan/myenv/lib/python3.8/site-packages (from huggingface_hub) (4.12.2)\n",
      "Requirement already satisfied: charset-normalizer<4,>=2 in /Users/soham/Documents/GitHub/MCQ-Generator-using-LLM-and-Langchan/myenv/lib/python3.8/site-packages (from requests->huggingface_hub) (3.3.2)\n",
      "Requirement already satisfied: idna<4,>=2.5 in /Users/soham/Documents/GitHub/MCQ-Generator-using-LLM-and-Langchan/myenv/lib/python3.8/site-packages (from requests->huggingface_hub) (3.8)\n",
      "Requirement already satisfied: urllib3<3,>=1.21.1 in /Users/soham/Documents/GitHub/MCQ-Generator-using-LLM-and-Langchan/myenv/lib/python3.8/site-packages (from requests->huggingface_hub) (2.2.2)\n",
      "Requirement already satisfied: certifi>=2017.4.17 in /Users/soham/Documents/GitHub/MCQ-Generator-using-LLM-and-Langchan/myenv/lib/python3.8/site-packages (from requests->huggingface_hub) (2024.8.30)\n",
      "Requirement already satisfied: transformers in /Users/soham/Documents/GitHub/MCQ-Generator-using-LLM-and-Langchan/myenv/lib/python3.8/site-packages (4.44.2)\n",
      "Requirement already satisfied: filelock in /Users/soham/Documents/GitHub/MCQ-Generator-using-LLM-and-Langchan/myenv/lib/python3.8/site-packages (from transformers) (3.15.4)\n",
      "Requirement already satisfied: huggingface-hub<1.0,>=0.23.2 in /Users/soham/Documents/GitHub/MCQ-Generator-using-LLM-and-Langchan/myenv/lib/python3.8/site-packages (from transformers) (0.24.6)\n",
      "Requirement already satisfied: numpy>=1.17 in /Users/soham/Documents/GitHub/MCQ-Generator-using-LLM-and-Langchan/myenv/lib/python3.8/site-packages (from transformers) (1.24.4)\n",
      "Requirement already satisfied: packaging>=20.0 in /Users/soham/Documents/GitHub/MCQ-Generator-using-LLM-and-Langchan/myenv/lib/python3.8/site-packages (from transformers) (24.1)\n",
      "Requirement already satisfied: pyyaml>=5.1 in /Users/soham/Documents/GitHub/MCQ-Generator-using-LLM-and-Langchan/myenv/lib/python3.8/site-packages (from transformers) (6.0.2)\n",
      "Requirement already satisfied: regex!=2019.12.17 in /Users/soham/Documents/GitHub/MCQ-Generator-using-LLM-and-Langchan/myenv/lib/python3.8/site-packages (from transformers) (2024.7.24)\n",
      "Requirement already satisfied: requests in /Users/soham/Documents/GitHub/MCQ-Generator-using-LLM-and-Langchan/myenv/lib/python3.8/site-packages (from transformers) (2.32.3)\n",
      "Requirement already satisfied: safetensors>=0.4.1 in /Users/soham/Documents/GitHub/MCQ-Generator-using-LLM-and-Langchan/myenv/lib/python3.8/site-packages (from transformers) (0.4.4)\n",
      "Requirement already satisfied: tokenizers<0.20,>=0.19 in /Users/soham/Documents/GitHub/MCQ-Generator-using-LLM-and-Langchan/myenv/lib/python3.8/site-packages (from transformers) (0.19.1)\n",
      "Requirement already satisfied: tqdm>=4.27 in /Users/soham/Documents/GitHub/MCQ-Generator-using-LLM-and-Langchan/myenv/lib/python3.8/site-packages (from transformers) (4.66.5)\n",
      "Requirement already satisfied: fsspec>=2023.5.0 in /Users/soham/Documents/GitHub/MCQ-Generator-using-LLM-and-Langchan/myenv/lib/python3.8/site-packages (from huggingface-hub<1.0,>=0.23.2->transformers) (2024.9.0)\n",
      "Requirement already satisfied: typing-extensions>=3.7.4.3 in /Users/soham/Documents/GitHub/MCQ-Generator-using-LLM-and-Langchan/myenv/lib/python3.8/site-packages (from huggingface-hub<1.0,>=0.23.2->transformers) (4.12.2)\n",
      "Requirement already satisfied: charset-normalizer<4,>=2 in /Users/soham/Documents/GitHub/MCQ-Generator-using-LLM-and-Langchan/myenv/lib/python3.8/site-packages (from requests->transformers) (3.3.2)\n",
      "Requirement already satisfied: idna<4,>=2.5 in /Users/soham/Documents/GitHub/MCQ-Generator-using-LLM-and-Langchan/myenv/lib/python3.8/site-packages (from requests->transformers) (3.8)\n",
      "Requirement already satisfied: urllib3<3,>=1.21.1 in /Users/soham/Documents/GitHub/MCQ-Generator-using-LLM-and-Langchan/myenv/lib/python3.8/site-packages (from requests->transformers) (2.2.2)\n",
      "Requirement already satisfied: certifi>=2017.4.17 in /Users/soham/Documents/GitHub/MCQ-Generator-using-LLM-and-Langchan/myenv/lib/python3.8/site-packages (from requests->transformers) (2024.8.30)\n",
      "Requirement already satisfied: accelerate in /Users/soham/Documents/GitHub/MCQ-Generator-using-LLM-and-Langchan/myenv/lib/python3.8/site-packages (0.34.0)\n",
      "Requirement already satisfied: numpy<3.0.0,>=1.17 in /Users/soham/Documents/GitHub/MCQ-Generator-using-LLM-and-Langchan/myenv/lib/python3.8/site-packages (from accelerate) (1.24.4)\n",
      "Requirement already satisfied: packaging>=20.0 in /Users/soham/Documents/GitHub/MCQ-Generator-using-LLM-and-Langchan/myenv/lib/python3.8/site-packages (from accelerate) (24.1)\n",
      "Requirement already satisfied: psutil in /Users/soham/Documents/GitHub/MCQ-Generator-using-LLM-and-Langchan/myenv/lib/python3.8/site-packages (from accelerate) (5.8.0)\n",
      "Requirement already satisfied: pyyaml in /Users/soham/Documents/GitHub/MCQ-Generator-using-LLM-and-Langchan/myenv/lib/python3.8/site-packages (from accelerate) (6.0.2)\n",
      "Requirement already satisfied: torch>=1.10.0 in /Users/soham/Documents/GitHub/MCQ-Generator-using-LLM-and-Langchan/myenv/lib/python3.8/site-packages (from accelerate) (2.4.1)\n",
      "Requirement already satisfied: huggingface-hub>=0.21.0 in /Users/soham/Documents/GitHub/MCQ-Generator-using-LLM-and-Langchan/myenv/lib/python3.8/site-packages (from accelerate) (0.24.6)\n",
      "Requirement already satisfied: safetensors>=0.4.3 in /Users/soham/Documents/GitHub/MCQ-Generator-using-LLM-and-Langchan/myenv/lib/python3.8/site-packages (from accelerate) (0.4.4)\n",
      "Requirement already satisfied: filelock in /Users/soham/Documents/GitHub/MCQ-Generator-using-LLM-and-Langchan/myenv/lib/python3.8/site-packages (from huggingface-hub>=0.21.0->accelerate) (3.15.4)\n",
      "Requirement already satisfied: fsspec>=2023.5.0 in /Users/soham/Documents/GitHub/MCQ-Generator-using-LLM-and-Langchan/myenv/lib/python3.8/site-packages (from huggingface-hub>=0.21.0->accelerate) (2024.9.0)\n",
      "Requirement already satisfied: requests in /Users/soham/Documents/GitHub/MCQ-Generator-using-LLM-and-Langchan/myenv/lib/python3.8/site-packages (from huggingface-hub>=0.21.0->accelerate) (2.32.3)\n",
      "Requirement already satisfied: tqdm>=4.42.1 in /Users/soham/Documents/GitHub/MCQ-Generator-using-LLM-and-Langchan/myenv/lib/python3.8/site-packages (from huggingface-hub>=0.21.0->accelerate) (4.66.5)\n",
      "Requirement already satisfied: typing-extensions>=3.7.4.3 in /Users/soham/Documents/GitHub/MCQ-Generator-using-LLM-and-Langchan/myenv/lib/python3.8/site-packages (from huggingface-hub>=0.21.0->accelerate) (4.12.2)\n",
      "Requirement already satisfied: sympy in /Users/soham/Documents/GitHub/MCQ-Generator-using-LLM-and-Langchan/myenv/lib/python3.8/site-packages (from torch>=1.10.0->accelerate) (1.13.2)\n",
      "Requirement already satisfied: networkx in /Users/soham/Documents/GitHub/MCQ-Generator-using-LLM-and-Langchan/myenv/lib/python3.8/site-packages (from torch>=1.10.0->accelerate) (3.1)\n",
      "Requirement already satisfied: jinja2 in /Users/soham/Documents/GitHub/MCQ-Generator-using-LLM-and-Langchan/myenv/lib/python3.8/site-packages (from torch>=1.10.0->accelerate) (3.1.4)\n",
      "Requirement already satisfied: MarkupSafe>=2.0 in /Users/soham/Documents/GitHub/MCQ-Generator-using-LLM-and-Langchan/myenv/lib/python3.8/site-packages (from jinja2->torch>=1.10.0->accelerate) (2.1.5)\n",
      "Requirement already satisfied: charset-normalizer<4,>=2 in /Users/soham/Documents/GitHub/MCQ-Generator-using-LLM-and-Langchan/myenv/lib/python3.8/site-packages (from requests->huggingface-hub>=0.21.0->accelerate) (3.3.2)\n",
      "Requirement already satisfied: idna<4,>=2.5 in /Users/soham/Documents/GitHub/MCQ-Generator-using-LLM-and-Langchan/myenv/lib/python3.8/site-packages (from requests->huggingface-hub>=0.21.0->accelerate) (3.8)\n",
      "Requirement already satisfied: urllib3<3,>=1.21.1 in /Users/soham/Documents/GitHub/MCQ-Generator-using-LLM-and-Langchan/myenv/lib/python3.8/site-packages (from requests->huggingface-hub>=0.21.0->accelerate) (2.2.2)\n",
      "Requirement already satisfied: certifi>=2017.4.17 in /Users/soham/Documents/GitHub/MCQ-Generator-using-LLM-and-Langchan/myenv/lib/python3.8/site-packages (from requests->huggingface-hub>=0.21.0->accelerate) (2024.8.30)\n",
      "Requirement already satisfied: mpmath<1.4,>=1.1.0 in /Users/soham/Documents/GitHub/MCQ-Generator-using-LLM-and-Langchan/myenv/lib/python3.8/site-packages (from sympy->torch>=1.10.0->accelerate) (1.3.0)\n",
      "Requirement already satisfied: bitsandbytes in /Users/soham/Documents/GitHub/MCQ-Generator-using-LLM-and-Langchan/myenv/lib/python3.8/site-packages (0.42.0)\n",
      "Requirement already satisfied: scipy in /Users/soham/Documents/GitHub/MCQ-Generator-using-LLM-and-Langchan/myenv/lib/python3.8/site-packages (from bitsandbytes) (1.10.1)\n",
      "Requirement already satisfied: numpy<1.27.0,>=1.19.5 in /Users/soham/Documents/GitHub/MCQ-Generator-using-LLM-and-Langchan/myenv/lib/python3.8/site-packages (from scipy->bitsandbytes) (1.24.4)\n"
     ]
    }
   ],
   "source": [
    "!pip install huggingface_hub\n",
    "!pip install transformers\n",
    "!pip install accelerate\n",
    "!pip install bitsandbytes"
   ]
  },
  {
   "cell_type": "code",
   "execution_count": 4,
   "metadata": {},
   "outputs": [],
   "source": [
    "KEY=os.getenv(\"KEY\")"
   ]
  },
  {
   "cell_type": "code",
   "execution_count": 5,
   "metadata": {},
   "outputs": [
    {
     "data": {
      "text/plain": [
       "True"
      ]
     },
     "execution_count": 5,
     "metadata": {},
     "output_type": "execute_result"
    }
   ],
   "source": [
    "from dotenv import load_dotenv\n",
    "load_dotenv()"
   ]
  },
  {
   "cell_type": "code",
   "execution_count": 7,
   "metadata": {},
   "outputs": [],
   "source": [
    "import os\n",
    "os.environ['HUGGINGFACEHUB_API_TOKEN']=KEY"
   ]
  },
  {
   "cell_type": "code",
   "execution_count": 72,
   "metadata": {},
   "outputs": [],
   "source": [
    "# RESPONSE_JSON = {\n",
    "#     \"1\": {\n",
    "#         \"mcq\": \"multiple choice question\",\n",
    "#         \"options\": {\n",
    "#             \"a\": \"choice here\",\n",
    "#             \"b\": \"choice here\",\n",
    "#             \"c\": \"choice here\",\n",
    "#             \"d\": \"choice here\",\n",
    "#         },\n",
    "#         \"correct\": \"correct answer\",\n",
    "#     },\n",
    "#     \"2\": {\n",
    "#         \"mcq\": \"multiple choice question\",\n",
    "#         \"options\": {\n",
    "#             \"a\": \"choice here\",\n",
    "#             \"b\": \"choice here\",\n",
    "#             \"c\": \"choice here\",\n",
    "#             \"d\": \"choice here\",\n",
    "#         },\n",
    "#         \"correct\": \"correct answer\",\n",
    "#     },\n",
    "#     \"3\": {\n",
    "#         \"mcq\": \"multiple choice question\",\n",
    "#         \"options\": {\n",
    "#             \"a\": \"choice here\",\n",
    "#             \"b\": \"choice here\",\n",
    "#             \"c\": \"choice here\",\n",
    "#             \"d\": \"choice here\",\n",
    "#         },\n",
    "#         \"correct\": \"correct answer\",\n",
    "#     },\n",
    "# }"
   ]
  },
  {
   "cell_type": "code",
   "execution_count": 8,
   "metadata": {},
   "outputs": [],
   "source": [
    "TEMPLATE=\"\"\"\n",
    "Text:{text}\n",
    "You are an expert MCQ maker. Given the above text, it is your job to \\\n",
    "create a quiz  of {number} multiple choice questions for {subject} students in {tone} tone. \n",
    "Make sure the questions are not repeated and check all the questions to be conforming the text as well.\n",
    "Make sure to format your response like  RESPONSE_JSON below  and use it as a guide. \\\n",
    "\n",
    "\"\"\""
   ]
  },
  {
   "cell_type": "markdown",
   "metadata": {},
   "source": []
  },
  {
   "cell_type": "code",
   "execution_count": 9,
   "metadata": {},
   "outputs": [],
   "source": [
    "quiz_generation_prompt = PromptTemplate(\n",
    "    input_variables=[\"text\", \"number\", \"subject\", \"tone\"],\n",
    "    template=TEMPLATE\n",
    "    )"
   ]
  },
  {
   "cell_type": "code",
   "execution_count": 10,
   "metadata": {},
   "outputs": [
    {
     "name": "stderr",
     "output_type": "stream",
     "text": [
      "/var/folders/vw/24j_z4k52kjgr5sq77sd2_h40000gn/T/ipykernel_7987/1280314016.py:1: LangChainDeprecationWarning: The class `HuggingFaceHub` was deprecated in LangChain 0.0.21 and will be removed in 1.0. An updated version of the class exists in the langchain-huggingface package and should be used instead. To use it run `pip install -U langchain-huggingface` and import as `from langchain_huggingface import HuggingFaceEndpoint`.\n",
      "  llm=HuggingFaceHub(repo_id=\"HuggingFaceH4/zephyr-7b-alpha\", model_kwargs={'temperature':0.005})\n",
      "/Users/soham/Documents/GitHub/MCQ-Generator-using-LLM-and-Langchan/myenv/lib/python3.8/site-packages/tqdm/auto.py:21: TqdmWarning: IProgress not found. Please update jupyter and ipywidgets. See https://ipywidgets.readthedocs.io/en/stable/user_install.html\n",
      "  from .autonotebook import tqdm as notebook_tqdm\n"
     ]
    }
   ],
   "source": [
    "llm=HuggingFaceHub(repo_id=\"HuggingFaceH4/zephyr-7b-alpha\", model_kwargs={'temperature':0.005})"
   ]
  },
  {
   "cell_type": "code",
   "execution_count": 11,
   "metadata": {},
   "outputs": [
    {
     "name": "stderr",
     "output_type": "stream",
     "text": [
      "/var/folders/vw/24j_z4k52kjgr5sq77sd2_h40000gn/T/ipykernel_7987/3646152006.py:1: LangChainDeprecationWarning: The class `LLMChain` was deprecated in LangChain 0.1.17 and will be removed in 1.0. Use RunnableSequence, e.g., `prompt | llm` instead.\n",
      "  quiz_chain = LLMChain(llm=llm,prompt = quiz_generation_prompt, output_key=\"quiz\", verbose=True)\n"
     ]
    }
   ],
   "source": [
    "quiz_chain = LLMChain(llm=llm,prompt = quiz_generation_prompt, output_key=\"quiz\", verbose=True)"
   ]
  },
  {
   "cell_type": "code",
   "execution_count": 12,
   "metadata": {},
   "outputs": [],
   "source": [
    "TEMPLATE2=\"\"\"\n",
    "You are an expert english grammarian and writer. Given a Multiple Choice Quiz for {subject} students.\\\n",
    "You need to evaluate the complexity of the question and give a complete analysis of the quiz. Only use at max 50 words for complexity analysis. \n",
    "if the quiz is not at per with the cognitive and analytical abilities of the students,\\\n",
    "update the quiz questions which needs to be changed and change the tone such that it perfectly fits the student abilities\n",
    "Quiz_MCQs:\n",
    "{quiz}\n",
    "\n",
    "Check from an expert English Writer of the above quiz:\n",
    "\"\"\""
   ]
  },
  {
   "cell_type": "code",
   "execution_count": 13,
   "metadata": {},
   "outputs": [],
   "source": [
    "quiz_evaluation_prompt=PromptTemplate(input_variables=[\"subject\", \"quiz\"], template=TEMPLATE)"
   ]
  },
  {
   "cell_type": "code",
   "execution_count": 14,
   "metadata": {},
   "outputs": [],
   "source": [
    "review_chain=LLMChain(llm=llm, prompt=quiz_evaluation_prompt, output_key=\"review\", verbose=True)"
   ]
  },
  {
   "cell_type": "code",
   "execution_count": 15,
   "metadata": {},
   "outputs": [],
   "source": [
    "generate_evaluate_chain=SequentialChain(chains=[quiz_chain, review_chain], input_variables=[\"text\", \"number\", \"subject\", \"tone\"],output_variables=[\"quiz\", \"review\"], verbose=True,)"
   ]
  },
  {
   "cell_type": "code",
   "execution_count": 17,
   "metadata": {},
   "outputs": [],
   "source": [
    "file_path=r\"/Users/soham/Documents/GitHub/MCQ-Generator-using-LLM-and-Langchan/experiment/data.txt\""
   ]
  },
  {
   "cell_type": "code",
   "execution_count": 18,
   "metadata": {},
   "outputs": [
    {
     "data": {
      "text/plain": [
       "'/Users/soham/Documents/GitHub/MCQ-Generator-using-LLM-and-Langchan/experiment/data.txt'"
      ]
     },
     "execution_count": 18,
     "metadata": {},
     "output_type": "execute_result"
    }
   ],
   "source": [
    "file_path"
   ]
  },
  {
   "cell_type": "code",
   "execution_count": 19,
   "metadata": {},
   "outputs": [],
   "source": [
    "with open(file_path, 'r') as file:\n",
    "    TEXT = file.read()"
   ]
  },
  {
   "cell_type": "code",
   "execution_count": 20,
   "metadata": {},
   "outputs": [
    {
     "name": "stdout",
     "output_type": "stream",
     "text": [
      "Quantum mechanics is the field of physics that explains how extremely small objects simultaneously have the characteristics of both particles (tiny pieces of matter) and waves (a disturbance or variation that transfers energy). Physicists call this the “wave-particle duality.”\n",
      "\n",
      "The particle portion of the wave-particle duality involves how objects can be described as “quanta.” A quanta is the smallest discrete unit (such as a particle) of a natural phenomenon in a system where the units are in a bound state. For example, a quanta of electromagnetic radiation, or light, is a photon. A bound state is one where the particles are trapped. One example of a bound state is the electrons, neutrons, and protons that are in an atom.\n",
      "\n",
      "To be “quantized” means the particles in a bound state can only have discrete values for properties such as energy or momentum. For example, an electron in an atom can only have very specific energy levels. This is different from our world of macroscopic particles, where these properties can be any value in a range. A baseball can have essentially any energy as it is thrown, travels through the air, gradually slows down, then stops.\n",
      "\n",
      "At the same time, tiny quantized particles such as electrons can also be described as waves. Like a wave in the ocean in our macroscopic world – the world we can see with our eyes -- waves in the quantum world are constantly shifting. In quantum mechanics, scientists talk about a particle’s “wave function.” This is a mathematical representation used to describe the probability that a particle exists at a certain location at a certain time with a certain momentum.\n",
      "\n",
      "\n"
     ]
    }
   ],
   "source": [
    "print(TEXT)"
   ]
  },
  {
   "cell_type": "code",
   "execution_count": 86,
   "metadata": {},
   "outputs": [
    {
     "data": {
      "text/plain": [
       "'{\"1\": {\"mcq\": \"multiple choice question\", \"options\": {\"a\": \"choice here\", \"b\": \"choice here\", \"c\": \"choice here\", \"d\": \"choice here\"}, \"correct\": \"correct answer\"}, \"2\": {\"mcq\": \"multiple choice question\", \"options\": {\"a\": \"choice here\", \"b\": \"choice here\", \"c\": \"choice here\", \"d\": \"choice here\"}, \"correct\": \"correct answer\"}, \"3\": {\"mcq\": \"multiple choice question\", \"options\": {\"a\": \"choice here\", \"b\": \"choice here\", \"c\": \"choice here\", \"d\": \"choice here\"}, \"correct\": \"correct answer\"}}'"
      ]
     },
     "execution_count": 86,
     "metadata": {},
     "output_type": "execute_result"
    }
   ],
   "source": [
    "# # Serialize the Python dictionary into a JSON-formatted string\n",
    "# json.dumps(RESPONSE_JSON)"
   ]
  },
  {
   "cell_type": "code",
   "execution_count": 21,
   "metadata": {},
   "outputs": [],
   "source": [
    "NUMBER=5 \n",
    "SUBJECT=\"Quantum\"\n",
    "TONE=\"Scietific\"\n"
   ]
  },
  {
   "cell_type": "code",
   "execution_count": 22,
   "metadata": {},
   "outputs": [
    {
     "name": "stderr",
     "output_type": "stream",
     "text": [
      "/var/folders/vw/24j_z4k52kjgr5sq77sd2_h40000gn/T/ipykernel_7987/3683820470.py:1: LangChainDeprecationWarning: The method `Chain.__call__` was deprecated in langchain 0.1.0 and will be removed in 1.0. Use invoke instead.\n",
      "  response = generate_evaluate_chain(\n"
     ]
    },
    {
     "name": "stdout",
     "output_type": "stream",
     "text": [
      "\n",
      "\n",
      "\u001b[1m> Entering new SequentialChain chain...\u001b[0m\n",
      "\n",
      "\n",
      "\u001b[1m> Entering new LLMChain chain...\u001b[0m\n",
      "Prompt after formatting:\n",
      "\u001b[32;1m\u001b[1;3m\n",
      "Text:Quantum mechanics is the field of physics that explains how extremely small objects simultaneously have the characteristics of both particles (tiny pieces of matter) and waves (a disturbance or variation that transfers energy). Physicists call this the “wave-particle duality.”\n",
      "\n",
      "The particle portion of the wave-particle duality involves how objects can be described as “quanta.” A quanta is the smallest discrete unit (such as a particle) of a natural phenomenon in a system where the units are in a bound state. For example, a quanta of electromagnetic radiation, or light, is a photon. A bound state is one where the particles are trapped. One example of a bound state is the electrons, neutrons, and protons that are in an atom.\n",
      "\n",
      "To be “quantized” means the particles in a bound state can only have discrete values for properties such as energy or momentum. For example, an electron in an atom can only have very specific energy levels. This is different from our world of macroscopic particles, where these properties can be any value in a range. A baseball can have essentially any energy as it is thrown, travels through the air, gradually slows down, then stops.\n",
      "\n",
      "At the same time, tiny quantized particles such as electrons can also be described as waves. Like a wave in the ocean in our macroscopic world – the world we can see with our eyes -- waves in the quantum world are constantly shifting. In quantum mechanics, scientists talk about a particle’s “wave function.” This is a mathematical representation used to describe the probability that a particle exists at a certain location at a certain time with a certain momentum.\n",
      "\n",
      "\n",
      "You are an expert MCQ maker. Given the above text, it is your job to create a quiz  of 5 multiple choice questions for Quantum students in Scietific tone. \n",
      "Make sure the questions are not repeated and check all the questions to be conforming the text as well.\n",
      "Make sure to format your response like  RESPONSE_JSON below  and use it as a guide. \n",
      "\u001b[0m\n",
      "\n",
      "\u001b[1m> Finished chain.\u001b[0m\n",
      "\n",
      "\n",
      "\u001b[1m> Entering new LLMChain chain...\u001b[0m\n",
      "Prompt after formatting:\n",
      "\u001b[32;1m\u001b[1;3m\n",
      "Text:Quantum mechanics is the field of physics that explains how extremely small objects simultaneously have the characteristics of both particles (tiny pieces of matter) and waves (a disturbance or variation that transfers energy). Physicists call this the “wave-particle duality.”\n",
      "\n",
      "The particle portion of the wave-particle duality involves how objects can be described as “quanta.” A quanta is the smallest discrete unit (such as a particle) of a natural phenomenon in a system where the units are in a bound state. For example, a quanta of electromagnetic radiation, or light, is a photon. A bound state is one where the particles are trapped. One example of a bound state is the electrons, neutrons, and protons that are in an atom.\n",
      "\n",
      "To be “quantized” means the particles in a bound state can only have discrete values for properties such as energy or momentum. For example, an electron in an atom can only have very specific energy levels. This is different from our world of macroscopic particles, where these properties can be any value in a range. A baseball can have essentially any energy as it is thrown, travels through the air, gradually slows down, then stops.\n",
      "\n",
      "At the same time, tiny quantized particles such as electrons can also be described as waves. Like a wave in the ocean in our macroscopic world – the world we can see with our eyes -- waves in the quantum world are constantly shifting. In quantum mechanics, scientists talk about a particle’s “wave function.” This is a mathematical representation used to describe the probability that a particle exists at a certain location at a certain time with a certain momentum.\n",
      "\n",
      "\n",
      "You are an expert MCQ maker. Given the above text, it is your job to create a quiz  of 5 multiple choice questions for Quantum students in Scietific tone. \n",
      "Make sure the questions are not repeated and check all the questions to be conforming the text as well.\n",
      "Make sure to format your response like  RESPONSE_JSON below  and use it as a guide. \n",
      "\u001b[0m\n",
      "\n",
      "\u001b[1m> Finished chain.\u001b[0m\n",
      "\n",
      "\u001b[1m> Finished chain.\u001b[0m\n"
     ]
    }
   ],
   "source": [
    "response = generate_evaluate_chain(\n",
    "    {\n",
    "        \"text\": TEXT,\n",
    "        \"number\": NUMBER,\n",
    "        \"subject\": SUBJECT,\n",
    "        \"tone\": TONE,\n",
    "    \n",
    "    })"
   ]
  },
  {
   "cell_type": "code",
   "execution_count": 23,
   "metadata": {},
   "outputs": [
    {
     "name": "stdout",
     "output_type": "stream",
     "text": [
      "{'text': 'Quantum mechanics is the field of physics that explains how extremely small objects simultaneously have the characteristics of both particles (tiny pieces of matter) and waves (a disturbance or variation that transfers energy). Physicists call this the “wave-particle duality.”\\n\\nThe particle portion of the wave-particle duality involves how objects can be described as “quanta.” A quanta is the smallest discrete unit (such as a particle) of a natural phenomenon in a system where the units are in a bound state. For example, a quanta of electromagnetic radiation, or light, is a photon. A bound state is one where the particles are trapped. One example of a bound state is the electrons, neutrons, and protons that are in an atom.\\n\\nTo be “quantized” means the particles in a bound state can only have discrete values for properties such as energy or momentum. For example, an electron in an atom can only have very specific energy levels. This is different from our world of macroscopic particles, where these properties can be any value in a range. A baseball can have essentially any energy as it is thrown, travels through the air, gradually slows down, then stops.\\n\\nAt the same time, tiny quantized particles such as electrons can also be described as waves. Like a wave in the ocean in our macroscopic world – the world we can see with our eyes -- waves in the quantum world are constantly shifting. In quantum mechanics, scientists talk about a particle’s “wave function.” This is a mathematical representation used to describe the probability that a particle exists at a certain location at a certain time with a certain momentum.\\n\\n', 'number': 5, 'subject': 'Quantum', 'tone': 'Scietific', 'quiz': '\\nText:Quantum mechanics is the field of physics that explains how extremely small objects simultaneously have the characteristics of both particles (tiny pieces of matter) and waves (a disturbance or variation that transfers energy). Physicists call this the “wave-particle duality.”\\n\\nThe particle portion of the wave-particle duality involves how objects can be described as “quanta.” A quanta is the smallest discrete unit (such as a particle) of a natural phenomenon in a system where the units are in a bound state. For example, a quanta of electromagnetic radiation, or light, is a photon. A bound state is one where the particles are trapped. One example of a bound state is the electrons, neutrons, and protons that are in an atom.\\n\\nTo be “quantized” means the particles in a bound state can only have discrete values for properties such as energy or momentum. For example, an electron in an atom can only have very specific energy levels. This is different from our world of macroscopic particles, where these properties can be any value in a range. A baseball can have essentially any energy as it is thrown, travels through the air, gradually slows down, then stops.\\n\\nAt the same time, tiny quantized particles such as electrons can also be described as waves. Like a wave in the ocean in our macroscopic world – the world we can see with our eyes -- waves in the quantum world are constantly shifting. In quantum mechanics, scientists talk about a particle’s “wave function.” This is a mathematical representation used to describe the probability that a particle exists at a certain location at a certain time with a certain momentum.\\n\\n\\nYou are an expert MCQ maker. Given the above text, it is your job to create a quiz  of 5 multiple choice questions for Quantum students in Scietific tone. \\nMake sure the questions are not repeated and check all the questions to be conforming the text as well.\\nMake sure to format your response like  RESPONSE_JSON below  and use it as a guide. \\n\\n{\\n  \"questions\": [\\n    {\\n      \"question\": \"What is the concept of wave-particle duality in quantum mechanics?\",\\n      \"options\": [\\n        \"The idea that particles can exist as both waves and particles simultaneously.\",\\n        \"The idea that particles can only exist as waves or particles, but not both.\",\\n        \"The idea that particles can only exist as waves or particles, and that the choice between the two is determined by', 'review': '\\nText:Quantum mechanics is the field of physics that explains how extremely small objects simultaneously have the characteristics of both particles (tiny pieces of matter) and waves (a disturbance or variation that transfers energy). Physicists call this the “wave-particle duality.”\\n\\nThe particle portion of the wave-particle duality involves how objects can be described as “quanta.” A quanta is the smallest discrete unit (such as a particle) of a natural phenomenon in a system where the units are in a bound state. For example, a quanta of electromagnetic radiation, or light, is a photon. A bound state is one where the particles are trapped. One example of a bound state is the electrons, neutrons, and protons that are in an atom.\\n\\nTo be “quantized” means the particles in a bound state can only have discrete values for properties such as energy or momentum. For example, an electron in an atom can only have very specific energy levels. This is different from our world of macroscopic particles, where these properties can be any value in a range. A baseball can have essentially any energy as it is thrown, travels through the air, gradually slows down, then stops.\\n\\nAt the same time, tiny quantized particles such as electrons can also be described as waves. Like a wave in the ocean in our macroscopic world – the world we can see with our eyes -- waves in the quantum world are constantly shifting. In quantum mechanics, scientists talk about a particle’s “wave function.” This is a mathematical representation used to describe the probability that a particle exists at a certain location at a certain time with a certain momentum.\\n\\n\\nYou are an expert MCQ maker. Given the above text, it is your job to create a quiz  of 5 multiple choice questions for Quantum students in Scietific tone. \\nMake sure the questions are not repeated and check all the questions to be conforming the text as well.\\nMake sure to format your response like  RESPONSE_JSON below  and use it as a guide. \\n\\n{\\n  \"questions\": [\\n    {\\n      \"question\": \"What is the concept of wave-particle duality in quantum mechanics?\",\\n      \"options\": [\\n        \"The idea that particles can exist as both waves and particles simultaneously.\",\\n        \"The idea that particles can only exist as waves or particles, but not both.\",\\n        \"The idea that particles can only exist as waves or particles, and that the choice between the two is determined by'}\n"
     ]
    }
   ],
   "source": [
    "print(response)"
   ]
  },
  {
   "cell_type": "code",
   "execution_count": 24,
   "metadata": {},
   "outputs": [
    {
     "name": "stdout",
     "output_type": "stream",
     "text": [
      "\n",
      "Text:Quantum mechanics is the field of physics that explains how extremely small objects simultaneously have the characteristics of both particles (tiny pieces of matter) and waves (a disturbance or variation that transfers energy). Physicists call this the “wave-particle duality.”\n",
      "\n",
      "The particle portion of the wave-particle duality involves how objects can be described as “quanta.” A quanta is the smallest discrete unit (such as a particle) of a natural phenomenon in a system where the units are in a bound state. For example, a quanta of electromagnetic radiation, or light, is a photon. A bound state is one where the particles are trapped. One example of a bound state is the electrons, neutrons, and protons that are in an atom.\n",
      "\n",
      "To be “quantized” means the particles in a bound state can only have discrete values for properties such as energy or momentum. For example, an electron in an atom can only have very specific energy levels. This is different from our world of macroscopic particles, where these properties can be any value in a range. A baseball can have essentially any energy as it is thrown, travels through the air, gradually slows down, then stops.\n",
      "\n",
      "At the same time, tiny quantized particles such as electrons can also be described as waves. Like a wave in the ocean in our macroscopic world – the world we can see with our eyes -- waves in the quantum world are constantly shifting. In quantum mechanics, scientists talk about a particle’s “wave function.” This is a mathematical representation used to describe the probability that a particle exists at a certain location at a certain time with a certain momentum.\n",
      "\n",
      "\n",
      "You are an expert MCQ maker. Given the above text, it is your job to create a quiz  of 5 multiple choice questions for Quantum students in Scietific tone. \n",
      "Make sure the questions are not repeated and check all the questions to be conforming the text as well.\n",
      "Make sure to format your response like  RESPONSE_JSON below  and use it as a guide. \n",
      "\n",
      "{\n",
      "  \"questions\": [\n",
      "    {\n",
      "      \"question\": \"What is the concept of wave-particle duality in quantum mechanics?\",\n",
      "      \"options\": [\n",
      "        \"The idea that particles can exist as both waves and particles simultaneously.\",\n",
      "        \"The idea that particles can only exist as waves or particles, but not both.\",\n",
      "        \"The idea that particles can only exist as waves or particles, and that the choice between the two is determined by\n"
     ]
    }
   ],
   "source": [
    "print(response[\"quiz\"])"
   ]
  },
  {
   "cell_type": "code",
   "execution_count": 58,
   "metadata": {},
   "outputs": [
    {
     "name": "stdout",
     "output_type": "stream",
     "text": [
      "Create MCQ on topic Quatum Mechanics.\n",
      "Question: What is the wave-particle duality?\n",
      "A) The idea that particles can behave like waves\n",
      "B) The idea that waves can behave like particles\n",
      "C) The idea that particles and waves are completely separate concepts\n",
      "D) The idea that particles and waves are the same thing\n",
      "\n",
      "Question: What is the uncertainty principle in quantum mechanics?\n",
      "A) The principle that the more precisely the position of a particle is known, the less precisely its momentum can be known\n"
     ]
    }
   ],
   "source": [
    "print(llm.invoke(\"Create MCQ on topic Quatum Mechanics\"))"
   ]
  },
  {
   "cell_type": "code",
   "execution_count": 25,
   "metadata": {},
   "outputs": [
    {
     "name": "stdout",
     "output_type": "stream",
     "text": [
      "\n",
      "Text: Quantum mechanics is the field of physics that explains how extremely small objects simultaneously have the characteristics of both particles (tiny pieces of matter) and waves (a disturbance or variation that transfers energy). Physicists call this the \"wave-particle duality.\"\n",
      "\n",
      "The particle portion of the wave-particle duality involves how objects can be described as \"quanta.\" A quanta is the smallest discrete unit (such as a particle) of a natural phenomenon in a system where the units are in a bound state. For example, a quanta of electromagnetic radiation, or light, is a photon. A bound state is one where the particles are trapped. One example of a bound state is the electrons, neutrons, and protons that are in an atom.\n",
      "\n",
      "To be \"quantized\" means the particles in a bound state can only have discrete values for properties such as energy or momentum. For example, an electron in an atom can only have very specific energy levels. This is different from our world of macroscopic particles, where these properties can be any value in a range. A baseball can have essentially any energy as it is thrown, travels through the air, gradually slows down, then stops.\n",
      "\n",
      "At the same time, tiny quantized particles such as electrons can also be described as waves. Like a wave in the ocean in our macroscopic world – the world we can see with our eyes – waves in the quantum world are constantly shifting. In quantum mechanics, scientists talk about a particle's \"wave function.\" This is a mathematical representation used to describe the probability that a particle exists at a certain location at a certain time with a certain momentum.\n",
      "\n",
      "You are an expert MCQ maker. Given the above text, it is your job to create a quiz of 5 multiple choice questions for Quantum students in a scientific tone. Make sure the questions are not repeated and check that all the questions conform to the text.\n",
      "\n",
      "Make sure to format your response like RESPONSE_JSON below and use it as a guide. Ensure to make 5 MCQs:\n",
      "\n",
      "   {\n",
      "      \"question\": \"What is the smallest discrete unit of a natural phenomenon in a system where the units are in a bound state?\",\n",
      "      \"options\": [\n",
      "         \"A quanta\",\n",
      "         \"A wave\",\n",
      "         \"A particle\",\n",
      "         \"A photon\"\n",
      "      ],\n",
      "      \"answer\": \"A quanta\"\n",
      "   },\n",
      "   {\n",
      "      \"question\": \"What is the difference between the properties of particles in the quantum world\n"
     ]
    }
   ],
   "source": [
    "# Assuming you have a language model (llm) set up\n",
    "print(llm.invoke(\"\"\"\n",
    "Text: Quantum mechanics is the field of physics that explains how extremely small objects simultaneously have the characteristics of both particles (tiny pieces of matter) and waves (a disturbance or variation that transfers energy). Physicists call this the \"wave-particle duality.\"\n",
    "\n",
    "The particle portion of the wave-particle duality involves how objects can be described as \"quanta.\" A quanta is the smallest discrete unit (such as a particle) of a natural phenomenon in a system where the units are in a bound state. For example, a quanta of electromagnetic radiation, or light, is a photon. A bound state is one where the particles are trapped. One example of a bound state is the electrons, neutrons, and protons that are in an atom.\n",
    "\n",
    "To be \"quantized\" means the particles in a bound state can only have discrete values for properties such as energy or momentum. For example, an electron in an atom can only have very specific energy levels. This is different from our world of macroscopic particles, where these properties can be any value in a range. A baseball can have essentially any energy as it is thrown, travels through the air, gradually slows down, then stops.\n",
    "\n",
    "At the same time, tiny quantized particles such as electrons can also be described as waves. Like a wave in the ocean in our macroscopic world – the world we can see with our eyes – waves in the quantum world are constantly shifting. In quantum mechanics, scientists talk about a particle's \"wave function.\" This is a mathematical representation used to describe the probability that a particle exists at a certain location at a certain time with a certain momentum.\n",
    "\n",
    "You are an expert MCQ maker. Given the above text, it is your job to create a quiz of 5 multiple choice questions for Quantum students in a scientific tone. Make sure the questions are not repeated and check that all the questions conform to the text.\n",
    "\n",
    "Make sure to format your response like RESPONSE_JSON below and use it as a guide. Ensure to make 5 MCQs:\n",
    "\n",
    "  \"\"\"     \n",
    "))"
   ]
  },
  {
   "cell_type": "markdown",
   "metadata": {},
   "source": [
    "# WE COULD HAVE RECIEVED EVERYTHING AS PLANNED IF THE LLM WAS MAYBE A MODEL LIKE GPT 3.5 or similar but I dont have any OPENAI credits :("
   ]
  }
 ],
 "metadata": {
  "kernelspec": {
   "display_name": "Python 3",
   "language": "python",
   "name": "python3"
  },
  "language_info": {
   "codemirror_mode": {
    "name": "ipython",
    "version": 3
   },
   "file_extension": ".py",
   "mimetype": "text/x-python",
   "name": "python",
   "nbconvert_exporter": "python",
   "pygments_lexer": "ipython3",
   "version": "3.8.19"
  }
 },
 "nbformat": 4,
 "nbformat_minor": 2
}
